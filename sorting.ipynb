{
 "cells": [
  {
   "cell_type": "code",
   "execution_count": 4,
   "id": "d6629262",
   "metadata": {},
   "outputs": [],
   "source": [
    "import numpy as np"
   ]
  },
  {
   "cell_type": "code",
   "execution_count": 5,
   "id": "d6d32b26",
   "metadata": {},
   "outputs": [
    {
     "name": "stdout",
     "output_type": "stream",
     "text": [
      "1d array [1 2 3 4]\n",
      "2d array [[1 2 3 4]\n",
      " [1 2 3 4]]\n"
     ]
    }
   ],
   "source": [
    "arr_1d = np.array( [1, 2, 3 ,4 ])\n",
    "print(\"1d array\" , arr_1d)\n",
    "\n",
    "arr_2d = np.array( [[1, 2, 3 ,4 ], [1,2,3,4]])\n",
    "print(\"2d array\" , arr_2d)"
   ]
  },
  {
   "cell_type": "code",
   "execution_count": 6,
   "id": "fab6952e",
   "metadata": {},
   "outputs": [
    {
     "name": "stdout",
     "output_type": "stream",
     "text": [
      "[1, 2, 3, 1, 2, 3]\n",
      "[[ 2  4  6]\n",
      " [ 8 10 12]]\n",
      "[[1 4]\n",
      " [2 5]\n",
      " [3 6]]\n"
     ]
    }
   ],
   "source": [
    "py_list = [1, 2 ,3]\n",
    "print(py_list*2)\n",
    "\n",
    "np_list = np.array([[1, 2 ,3],[4, 5, 6]])\n",
    "print(np_list*2)\n",
    "np_list = np_list.T\n",
    "\n",
    "print(np_list)"
   ]
  },
  {
   "cell_type": "markdown",
   "id": "1ef01490",
   "metadata": {},
   "source": [
    "##  sorting\n"
   ]
  },
  {
   "cell_type": "code",
   "execution_count": 7,
   "id": "db7b13ab",
   "metadata": {},
   "outputs": [
    {
     "name": "stdout",
     "output_type": "stream",
     "text": [
      "sorted Array [0 1 2 3 3 4 5 7]\n",
      "sorted Array by coloum [[1 1]\n",
      " [2 2]\n",
      " [3 3]]\n",
      "sorted Array by roe [[1 3]\n",
      " [1 2]\n",
      " [2 3]]\n"
     ]
    }
   ],
   "source": [
    "\n",
    "unsorted = np.array([3,4,5,2,1,0,7,3])\n",
    "print(f\"sorted Array {np.sort(unsorted)}\")\n",
    "\n",
    "arrr_2d_unsorted = np.array([[3,1],[1,2],[2,3]])\n",
    "print(f\"sorted Array by coloum {np.sort(arrr_2d_unsorted, axis=0)}\")\n",
    "print(f\"sorted Array by roe {np.sort(arrr_2d_unsorted, axis=1)}\")\n"
   ]
  },
  {
   "cell_type": "code",
   "execution_count": null,
   "id": "d6de8354",
   "metadata": {},
   "outputs": [
    {
     "name": "stdout",
     "output_type": "stream",
     "text": [
      "1\n"
     ]
    }
   ],
   "source": [
    "arr = np.array([6, 7, 8, 9])\n",
    "x = np.searchsorted(arr, 7)\n",
    "print(x)"
   ]
  },
  {
   "cell_type": "markdown",
   "id": "aebe5238",
   "metadata": {},
   "source": [
    "##  filter"
   ]
  },
  {
   "cell_type": "code",
   "execution_count": 9,
   "id": "fd1349f3",
   "metadata": {},
   "outputs": [
    {
     "name": "stdout",
     "output_type": "stream",
     "text": [
      "[ 0  1  2  3  4  5  6  7  8  9 10]\n",
      "[ 0  2  4  6  8 10]\n",
      "[1 3 5 7 9]\n"
     ]
    }
   ],
   "source": [
    "numbers = np.arange(0,11)\n",
    "print(numbers)\n",
    "even_number = numbers[numbers % 2 == 0]\n",
    "print(even_number)\n",
    "odd_number = numbers[numbers % 2 == 1]\n",
    "print(odd_number)"
   ]
  },
  {
   "cell_type": "markdown",
   "id": "a914a5b0",
   "metadata": {},
   "source": [
    "## Filter with mask"
   ]
  },
  {
   "cell_type": "code",
   "execution_count": 10,
   "id": "1ebf4c95",
   "metadata": {},
   "outputs": [
    {
     "name": "stdout",
     "output_type": "stream",
     "text": [
      "numbers grater than 5 [ 6  7  8  9 10]\n"
     ]
    }
   ],
   "source": [
    "mask = numbers > 5\n",
    "print(f\"numbers grater than 5 {numbers[mask]}\")"
   ]
  },
  {
   "cell_type": "markdown",
   "id": "1bc646dc",
   "metadata": {},
   "source": [
    "## Fancy Indexing vs np.where()"
   ]
  },
  {
   "cell_type": "code",
   "execution_count": 11,
   "id": "ad5759b8",
   "metadata": {},
   "outputs": [
    {
     "name": "stdout",
     "output_type": "stream",
     "text": [
      "[0 2 4 6 8]\n",
      "NP where() [ 6  7  8  9 10]\n"
     ]
    }
   ],
   "source": [
    "indices = [0,2,4,6,8]\n",
    "print(numbers[indices])\n",
    "where_result = np.where(numbers > 5)\n",
    "print(f\"NP where() {numbers[where_result]}\")"
   ]
  },
  {
   "cell_type": "code",
   "execution_count": 12,
   "id": "3f252dcf",
   "metadata": {},
   "outputs": [
    {
     "name": "stdout",
     "output_type": "stream",
     "text": [
      "array = ['false' 'false' 'false' 'false' 'false' 'false' 'true' 'true' 'true'\n",
      " 'true' 'true']\n"
     ]
    }
   ],
   "source": [
    "# for number in numbers:\n",
    "#     if (number > 5):\n",
    "#         print(\"true\")\n",
    "#     else:\n",
    "#         print(\"false\")\n",
    "\n",
    "condition_array = np.where(numbers > 5 , \"true\", \"false\")\n",
    "print(f\"array = {condition_array}\")\n"
   ]
  },
  {
   "cell_type": "markdown",
   "id": "c5d88fb0",
   "metadata": {},
   "source": [
    "## adding and removing data"
   ]
  },
  {
   "cell_type": "code",
   "execution_count": 13,
   "id": "59aab0f1",
   "metadata": {},
   "outputs": [
    {
     "name": "stdout",
     "output_type": "stream",
     "text": [
      "[ 1  2  3  4  5  6  7  8  9 10]\n"
     ]
    }
   ],
   "source": [
    "arr1 = np.arange(1,6)\n",
    "arr2 = np.arange(6,11)\n",
    "\n",
    "combine = np.concatenate((arr1, arr2))\n",
    "print(combine)"
   ]
  },
  {
   "cell_type": "markdown",
   "id": "f322fd2b",
   "metadata": {},
   "source": [
    "## array compatbility"
   ]
  },
  {
   "cell_type": "code",
   "execution_count": 14,
   "id": "ca329020",
   "metadata": {},
   "outputs": [
    {
     "name": "stdout",
     "output_type": "stream",
     "text": [
      "[ 1  2  3  4  5  6  7  8  9 10 11 12 13 14 15 16]\n",
      "Compatibility Shaper  True\n",
      "Compatibility Shaper  False\n"
     ]
    }
   ],
   "source": [
    "arr1 = np.arange(1,6)\n",
    "arr2 = np.arange(6,11)\n",
    "arr3 = np.arange(11,17)\n",
    "combine = np.concatenate((arr1, arr2, arr3))\n",
    "print(combine)\n",
    "print(\"Compatibility Shaper \", arr1.shape == arr2.shape)\n",
    "print(\"Compatibility Shaper \", arr1.shape == arr3.shape)\n"
   ]
  },
  {
   "cell_type": "code",
   "execution_count": 15,
   "id": "d49ef557",
   "metadata": {},
   "outputs": [
    {
     "name": "stdout",
     "output_type": "stream",
     "text": [
      "new row =\n",
      "[[1 2]\n",
      " [3 4]\n",
      " [5 6]]\n",
      "new coloum =\n",
      "[[1 2 7]\n",
      " [3 4 8]\n",
      " [5 6 9]]\n"
     ]
    }
   ],
   "source": [
    "orignal = np.array([[1,2], [3,4]])\n",
    "new_row = np.array([[5,6]])\n",
    "new_coloum = np.array([[7],[8],[9]])\n",
    "\n",
    "row = np.vstack((orignal, new_row))\n",
    "print(f\"new row =\\n{row}\")\n",
    "coloum = np.hstack((row, new_coloum))\n",
    "print(f\"new coloum =\\n{coloum}\")\n"
   ]
  },
  {
   "cell_type": "code",
   "execution_count": 16,
   "id": "17ce0655",
   "metadata": {},
   "outputs": [
    {
     "name": "stdout",
     "output_type": "stream",
     "text": [
      "[10 20 40 50 60]\n"
     ]
    }
   ],
   "source": [
    "arr = np.array([10,20,30,40,50,60])\n",
    "deleted = np.delete(arr, 2) # index not number\n",
    "print(deleted)"
   ]
  },
  {
   "cell_type": "markdown",
   "id": "16b58438",
   "metadata": {},
   "source": [
    "## spliting the data "
   ]
  },
  {
   "cell_type": "code",
   "execution_count": 20,
   "id": "81488fa3",
   "metadata": {},
   "outputs": [
    {
     "name": "stdout",
     "output_type": "stream",
     "text": [
      "[array([1, 2]), array([3, 4]), array([5, 6])]\n",
      "[1 2]\n",
      "[3 4]\n",
      "[5 6]\n"
     ]
    }
   ],
   "source": [
    "arr = np.array([1, 2, 3, 4, 5, 6])\n",
    "\n",
    "newarr = np.array_split(arr, 3)\n",
    "\n",
    "print(newarr)\n",
    "print(newarr[0])\n",
    "print(newarr[1])\n",
    "print(newarr[2])"
   ]
  },
  {
   "cell_type": "code",
   "execution_count": 22,
   "id": "d57b643d",
   "metadata": {},
   "outputs": [
    {
     "name": "stdout",
     "output_type": "stream",
     "text": [
      "[array([[ 1],\n",
      "       [ 4],\n",
      "       [ 7],\n",
      "       [10],\n",
      "       [13],\n",
      "       [16]]), array([[ 2],\n",
      "       [ 5],\n",
      "       [ 8],\n",
      "       [11],\n",
      "       [14],\n",
      "       [17]]), array([[ 3],\n",
      "       [ 6],\n",
      "       [ 9],\n",
      "       [12],\n",
      "       [15],\n",
      "       [18]])]\n"
     ]
    }
   ],
   "source": [
    "arr = np.array([[1, 2, 3], [4, 5, 6], [7, 8, 9], [10, 11, 12], [13, 14, 15], [16, 17, 18]])\n",
    "\n",
    "newarr = np.hsplit(arr, 3)\n",
    "\n",
    "print(newarr)"
   ]
  },
  {
   "cell_type": "code",
   "execution_count": 23,
   "id": "03bdab0b",
   "metadata": {},
   "outputs": [
    {
     "name": "stdout",
     "output_type": "stream",
     "text": [
      "[array([[ 1],\n",
      "       [ 4],\n",
      "       [ 7],\n",
      "       [10],\n",
      "       [13],\n",
      "       [16]]), array([[ 2],\n",
      "       [ 5],\n",
      "       [ 8],\n",
      "       [11],\n",
      "       [14],\n",
      "       [17]]), array([[ 3],\n",
      "       [ 6],\n",
      "       [ 9],\n",
      "       [12],\n",
      "       [15],\n",
      "       [18]])]\n"
     ]
    }
   ],
   "source": [
    "arr = np.array([[1, 2, 3], [4, 5, 6], [7, 8, 9], [10, 11, 12], [13, 14, 15], [16, 17, 18]])\n",
    "\n",
    "newarr = np.array_split(arr, 3, axis=1)\n",
    "\n",
    "print(newarr)"
   ]
  }
 ],
 "metadata": {
  "kernelspec": {
   "display_name": ".venv",
   "language": "python",
   "name": "python3"
  },
  "language_info": {
   "codemirror_mode": {
    "name": "ipython",
    "version": 3
   },
   "file_extension": ".py",
   "mimetype": "text/x-python",
   "name": "python",
   "nbconvert_exporter": "python",
   "pygments_lexer": "ipython3",
   "version": "3.12.10"
  }
 },
 "nbformat": 4,
 "nbformat_minor": 5
}
